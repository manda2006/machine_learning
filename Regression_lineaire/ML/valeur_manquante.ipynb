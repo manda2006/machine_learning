{
 "cells": [
  {
   "cell_type": "code",
   "execution_count": 1,
   "id": "cd07e65b",
   "metadata": {},
   "outputs": [],
   "source": [
    "import warnings\n",
    "warnings.filterwarnings('ignore')\n",
    "import pandas as pd\n",
    "import numpy as np\n",
    "import matplotlib.pyplot as plt"
   ]
  },
  {
   "cell_type": "code",
   "execution_count": 2,
   "id": "f0f58136",
   "metadata": {},
   "outputs": [],
   "source": [
    "data = pd.read_csv('F:\\\\python\\\\udemi\\\\pack\\\\Machine Learning avec Python La formation complete 2023\\\\3 - Introduction aux K plus proches voisins k Nearest Neigbors kNN\\\\pratique\\\\REGRESSION_LIN\\\\data\\\\AmesHousing.txt',delimiter = \"\\t\")\n",
    "train = data.iloc[:1460]\n",
    "test = data[1460:]"
   ]
  },
  {
   "cell_type": "code",
   "execution_count": 3,
   "id": "ed71ef84",
   "metadata": {},
   "outputs": [
    {
     "name": "stdout",
     "output_type": "stream",
     "text": [
      "<class 'pandas.core.frame.DataFrame'>\n",
      "RangeIndex: 1460 entries, 0 to 1459\n",
      "Data columns (total 58 columns):\n",
      " #   Column           Non-Null Count  Dtype  \n",
      "---  ------           --------------  -----  \n",
      " 0   Order            1460 non-null   int64  \n",
      " 1   PID              1460 non-null   int64  \n",
      " 2   MS SubClass      1460 non-null   int64  \n",
      " 3   MS Zoning        1460 non-null   object \n",
      " 4   Lot Area         1460 non-null   int64  \n",
      " 5   Street           1460 non-null   object \n",
      " 6   Lot Shape        1460 non-null   object \n",
      " 7   Land Contour     1460 non-null   object \n",
      " 8   Utilities        1460 non-null   object \n",
      " 9   Lot Config       1460 non-null   object \n",
      " 10  Land Slope       1460 non-null   object \n",
      " 11  Neighborhood     1460 non-null   object \n",
      " 12  Condition 1      1460 non-null   object \n",
      " 13  Condition 2      1460 non-null   object \n",
      " 14  Bldg Type        1460 non-null   object \n",
      " 15  House Style      1460 non-null   object \n",
      " 16  Overall Qual     1460 non-null   int64  \n",
      " 17  Overall Cond     1460 non-null   int64  \n",
      " 18  Year Built       1460 non-null   int64  \n",
      " 19  Year Remod/Add   1460 non-null   int64  \n",
      " 20  Roof Style       1460 non-null   object \n",
      " 21  Roof Matl        1460 non-null   object \n",
      " 22  Exterior 1st     1460 non-null   object \n",
      " 23  Exterior 2nd     1460 non-null   object \n",
      " 24  Exter Qual       1460 non-null   object \n",
      " 25  Exter Cond       1460 non-null   object \n",
      " 26  Foundation       1460 non-null   object \n",
      " 27  Heating          1460 non-null   object \n",
      " 28  Heating QC       1460 non-null   object \n",
      " 29  Central Air      1460 non-null   object \n",
      " 30  Electrical       1460 non-null   object \n",
      " 31  1st Flr SF       1460 non-null   int64  \n",
      " 32  2nd Flr SF       1460 non-null   int64  \n",
      " 33  Low Qual Fin SF  1460 non-null   int64  \n",
      " 34  Gr Liv Area      1460 non-null   int64  \n",
      " 35  Full Bath        1460 non-null   int64  \n",
      " 36  Half Bath        1460 non-null   int64  \n",
      " 37  Bedroom AbvGr    1460 non-null   int64  \n",
      " 38  Kitchen AbvGr    1460 non-null   int64  \n",
      " 39  Kitchen Qual     1460 non-null   object \n",
      " 40  TotRms AbvGrd    1460 non-null   int64  \n",
      " 41  Functional       1460 non-null   object \n",
      " 42  Fireplaces       1460 non-null   int64  \n",
      " 43  Garage Cars      1460 non-null   float64\n",
      " 44  Garage Area      1460 non-null   float64\n",
      " 45  Paved Drive      1460 non-null   object \n",
      " 46  Wood Deck SF     1460 non-null   int64  \n",
      " 47  Open Porch SF    1460 non-null   int64  \n",
      " 48  Enclosed Porch   1460 non-null   int64  \n",
      " 49  3Ssn Porch       1460 non-null   int64  \n",
      " 50  Screen Porch     1460 non-null   int64  \n",
      " 51  Pool Area        1460 non-null   int64  \n",
      " 52  Misc Val         1460 non-null   int64  \n",
      " 53  Mo Sold          1460 non-null   int64  \n",
      " 54  Yr Sold          1460 non-null   int64  \n",
      " 55  Sale Type        1460 non-null   object \n",
      " 56  Sale Condition   1460 non-null   object \n",
      " 57  SalePrice        1460 non-null   int64  \n",
      "dtypes: float64(2), int64(28), object(28)\n",
      "memory usage: 661.7+ KB\n"
     ]
    }
   ],
   "source": [
    "# train sans valeur manquante\n",
    "train_null_counts = train.isnull().sum()\n",
    "df_no_mv = train[train_null_counts[train_null_counts == 0].index]\n",
    "\n",
    "df_no_mv.info()"
   ]
  },
  {
   "cell_type": "markdown",
   "id": "374b1240",
   "metadata": {},
   "source": [
    "## convertir des colonnes à un type de donné catégorique"
   ]
  },
  {
   "cell_type": "code",
   "execution_count": 4,
   "id": "8e3e360a",
   "metadata": {},
   "outputs": [
    {
     "data": {
      "text/plain": [
       "House Style\n",
       "1Story    743\n",
       "2Story    440\n",
       "1.5Fin    160\n",
       "SLvl       60\n",
       "SFoyer     35\n",
       "2.5Unf     11\n",
       "1.5Unf      8\n",
       "2.5Fin      3\n",
       "Name: count, dtype: int64"
      ]
     },
     "execution_count": 4,
     "metadata": {},
     "output_type": "execute_result"
    }
   ],
   "source": [
    "train[\"House Style\"].value_counts()"
   ]
  },
  {
   "cell_type": "code",
   "execution_count": 5,
   "id": "07c61a4c",
   "metadata": {},
   "outputs": [],
   "source": [
    "train['Utilities'] = train['Utilities'].astype('category')"
   ]
  },
  {
   "cell_type": "code",
   "execution_count": 6,
   "id": "07fbe8e9",
   "metadata": {},
   "outputs": [
    {
     "data": {
      "text/plain": [
       "0       0\n",
       "1       0\n",
       "2       0\n",
       "3       0\n",
       "4       0\n",
       "       ..\n",
       "1455    0\n",
       "1456    0\n",
       "1457    0\n",
       "1458    0\n",
       "1459    0\n",
       "Length: 1460, dtype: int8"
      ]
     },
     "execution_count": 6,
     "metadata": {},
     "output_type": "execute_result"
    }
   ],
   "source": [
    "## il faut faire comme ceci pour acceder aux valeurs réeles du code:\n",
    "train['Utilities'].cat.codes"
   ]
  },
  {
   "cell_type": "markdown",
   "id": "4008f6f2",
   "metadata": {},
   "source": [
    "#### pratique"
   ]
  },
  {
   "cell_type": "code",
   "execution_count": 7,
   "id": "6766d88b",
   "metadata": {},
   "outputs": [
    {
     "name": "stdout",
     "output_type": "stream",
     "text": [
      "MS Zoning: 6\n",
      "Street: 2\n",
      "Lot Shape: 4\n",
      "Land Contour: 4\n",
      "Utilities: 3\n",
      "Lot Config: 5\n",
      "Land Slope: 3\n",
      "Neighborhood: 26\n",
      "Condition 1: 9\n",
      "Condition 2: 6\n",
      "Bldg Type: 5\n",
      "House Style: 8\n",
      "Roof Style: 6\n",
      "Roof Matl: 5\n",
      "Exterior 1st: 14\n",
      "Exterior 2nd: 16\n",
      "Exter Qual: 4\n",
      "Exter Cond: 5\n",
      "Foundation: 6\n",
      "Heating: 6\n",
      "Heating QC: 4\n",
      "Central Air: 2\n",
      "Electrical: 4\n",
      "Kitchen Qual: 5\n",
      "Functional: 7\n",
      "Paved Drive: 3\n",
      "Sale Type: 9\n",
      "Sale Condition: 5\n"
     ]
    }
   ],
   "source": [
    "text_cols = df_no_mv.select_dtypes(include=['object']).columns\n",
    "\n",
    "for col in text_cols:\n",
    "    print(col+':',len(train[col].unique()))"
   ]
  },
  {
   "cell_type": "code",
   "execution_count": 8,
   "id": "9bb5f7a6",
   "metadata": {},
   "outputs": [
    {
     "data": {
      "text/plain": [
       "0    1457\n",
       "2       2\n",
       "1       1\n",
       "Name: count, dtype: int64"
      ]
     },
     "execution_count": 8,
     "metadata": {},
     "output_type": "execute_result"
    }
   ],
   "source": [
    "for col in text_cols:\n",
    "    train[col] = train[col].astype('category')\n",
    "train['Utilities'].cat.codes.value_counts()"
   ]
  },
  {
   "cell_type": "markdown",
   "id": "c2e0a063",
   "metadata": {},
   "source": [
    "### technique pour gérer les caractéristiques de catégorie colonnes factices"
   ]
  },
  {
   "cell_type": "code",
   "execution_count": 9,
   "id": "838598ef",
   "metadata": {},
   "outputs": [
    {
     "data": {
      "text/html": [
       "<div>\n",
       "<style scoped>\n",
       "    .dataframe tbody tr th:only-of-type {\n",
       "        vertical-align: middle;\n",
       "    }\n",
       "\n",
       "    .dataframe tbody tr th {\n",
       "        vertical-align: top;\n",
       "    }\n",
       "\n",
       "    .dataframe thead th {\n",
       "        text-align: right;\n",
       "    }\n",
       "</style>\n",
       "<table border=\"1\" class=\"dataframe\">\n",
       "  <thead>\n",
       "    <tr style=\"text-align: right;\">\n",
       "      <th></th>\n",
       "      <th>Order</th>\n",
       "      <th>PID</th>\n",
       "      <th>MS SubClass</th>\n",
       "      <th>Lot Frontage</th>\n",
       "      <th>Lot Area</th>\n",
       "      <th>Alley</th>\n",
       "      <th>Overall Qual</th>\n",
       "      <th>Overall Cond</th>\n",
       "      <th>Year Built</th>\n",
       "      <th>Year Remod/Add</th>\n",
       "      <th>...</th>\n",
       "      <th>ConLI</th>\n",
       "      <th>ConLw</th>\n",
       "      <th>New</th>\n",
       "      <th>Oth</th>\n",
       "      <th>WD</th>\n",
       "      <th>Abnorml</th>\n",
       "      <th>Alloca</th>\n",
       "      <th>Family</th>\n",
       "      <th>Normal</th>\n",
       "      <th>Partial</th>\n",
       "    </tr>\n",
       "  </thead>\n",
       "  <tbody>\n",
       "    <tr>\n",
       "      <th>0</th>\n",
       "      <td>1</td>\n",
       "      <td>526301100</td>\n",
       "      <td>20</td>\n",
       "      <td>141.0</td>\n",
       "      <td>31770</td>\n",
       "      <td>NaN</td>\n",
       "      <td>6</td>\n",
       "      <td>5</td>\n",
       "      <td>1960</td>\n",
       "      <td>1960</td>\n",
       "      <td>...</td>\n",
       "      <td>0</td>\n",
       "      <td>0</td>\n",
       "      <td>0</td>\n",
       "      <td>0</td>\n",
       "      <td>1</td>\n",
       "      <td>0</td>\n",
       "      <td>0</td>\n",
       "      <td>0</td>\n",
       "      <td>1</td>\n",
       "      <td>0</td>\n",
       "    </tr>\n",
       "    <tr>\n",
       "      <th>1</th>\n",
       "      <td>2</td>\n",
       "      <td>526350040</td>\n",
       "      <td>20</td>\n",
       "      <td>80.0</td>\n",
       "      <td>11622</td>\n",
       "      <td>NaN</td>\n",
       "      <td>5</td>\n",
       "      <td>6</td>\n",
       "      <td>1961</td>\n",
       "      <td>1961</td>\n",
       "      <td>...</td>\n",
       "      <td>0</td>\n",
       "      <td>0</td>\n",
       "      <td>0</td>\n",
       "      <td>0</td>\n",
       "      <td>1</td>\n",
       "      <td>0</td>\n",
       "      <td>0</td>\n",
       "      <td>0</td>\n",
       "      <td>1</td>\n",
       "      <td>0</td>\n",
       "    </tr>\n",
       "    <tr>\n",
       "      <th>2</th>\n",
       "      <td>3</td>\n",
       "      <td>526351010</td>\n",
       "      <td>20</td>\n",
       "      <td>81.0</td>\n",
       "      <td>14267</td>\n",
       "      <td>NaN</td>\n",
       "      <td>6</td>\n",
       "      <td>6</td>\n",
       "      <td>1958</td>\n",
       "      <td>1958</td>\n",
       "      <td>...</td>\n",
       "      <td>0</td>\n",
       "      <td>0</td>\n",
       "      <td>0</td>\n",
       "      <td>0</td>\n",
       "      <td>1</td>\n",
       "      <td>0</td>\n",
       "      <td>0</td>\n",
       "      <td>0</td>\n",
       "      <td>1</td>\n",
       "      <td>0</td>\n",
       "    </tr>\n",
       "    <tr>\n",
       "      <th>3</th>\n",
       "      <td>4</td>\n",
       "      <td>526353030</td>\n",
       "      <td>20</td>\n",
       "      <td>93.0</td>\n",
       "      <td>11160</td>\n",
       "      <td>NaN</td>\n",
       "      <td>7</td>\n",
       "      <td>5</td>\n",
       "      <td>1968</td>\n",
       "      <td>1968</td>\n",
       "      <td>...</td>\n",
       "      <td>0</td>\n",
       "      <td>0</td>\n",
       "      <td>0</td>\n",
       "      <td>0</td>\n",
       "      <td>1</td>\n",
       "      <td>0</td>\n",
       "      <td>0</td>\n",
       "      <td>0</td>\n",
       "      <td>1</td>\n",
       "      <td>0</td>\n",
       "    </tr>\n",
       "    <tr>\n",
       "      <th>4</th>\n",
       "      <td>5</td>\n",
       "      <td>527105010</td>\n",
       "      <td>60</td>\n",
       "      <td>74.0</td>\n",
       "      <td>13830</td>\n",
       "      <td>NaN</td>\n",
       "      <td>5</td>\n",
       "      <td>5</td>\n",
       "      <td>1997</td>\n",
       "      <td>1998</td>\n",
       "      <td>...</td>\n",
       "      <td>0</td>\n",
       "      <td>0</td>\n",
       "      <td>0</td>\n",
       "      <td>0</td>\n",
       "      <td>1</td>\n",
       "      <td>0</td>\n",
       "      <td>0</td>\n",
       "      <td>0</td>\n",
       "      <td>1</td>\n",
       "      <td>0</td>\n",
       "    </tr>\n",
       "  </tbody>\n",
       "</table>\n",
       "<p>5 rows × 236 columns</p>\n",
       "</div>"
      ],
      "text/plain": [
       "   Order        PID  MS SubClass  Lot Frontage  Lot Area Alley  Overall Qual  \\\n",
       "0      1  526301100           20         141.0     31770   NaN             6   \n",
       "1      2  526350040           20          80.0     11622   NaN             5   \n",
       "2      3  526351010           20          81.0     14267   NaN             6   \n",
       "3      4  526353030           20          93.0     11160   NaN             7   \n",
       "4      5  527105010           60          74.0     13830   NaN             5   \n",
       "\n",
       "   Overall Cond  Year Built  Year Remod/Add  ... ConLI  ConLw New Oth WD   \\\n",
       "0             5        1960            1960  ...     0      0   0   0   1   \n",
       "1             6        1961            1961  ...     0      0   0   0   1   \n",
       "2             6        1958            1958  ...     0      0   0   0   1   \n",
       "3             5        1968            1968  ...     0      0   0   0   1   \n",
       "4             5        1997            1998  ...     0      0   0   0   1   \n",
       "\n",
       "  Abnorml  Alloca Family  Normal  Partial  \n",
       "0       0       0      0       1        0  \n",
       "1       0       0      0       1        0  \n",
       "2       0       0      0       1        0  \n",
       "3       0       0      0       1        0  \n",
       "4       0       0      0       1        0  \n",
       "\n",
       "[5 rows x 236 columns]"
      ]
     },
     "execution_count": 9,
     "metadata": {},
     "output_type": "execute_result"
    }
   ],
   "source": [
    "# pd.get_dummies(train/test['nom_colonne'])\n",
    "\n",
    "for col in text_cols:\n",
    "    col_dummies = pd.get_dummies(train[col]).astype(int)\n",
    "    train = pd.concat([train, col_dummies], axis=1)\n",
    "    del(train[col])\n",
    "train.head()"
   ]
  },
  {
   "cell_type": "markdown",
   "id": "c0aaa2e0",
   "metadata": {},
   "source": [
    "## transformer des caratéristiques numériques inapropriées"
   ]
  },
  {
   "cell_type": "code",
   "execution_count": 10,
   "id": "8746af0d",
   "metadata": {},
   "outputs": [
    {
     "data": {
      "text/html": [
       "<div>\n",
       "<style scoped>\n",
       "    .dataframe tbody tr th:only-of-type {\n",
       "        vertical-align: middle;\n",
       "    }\n",
       "\n",
       "    .dataframe tbody tr th {\n",
       "        vertical-align: top;\n",
       "    }\n",
       "\n",
       "    .dataframe thead th {\n",
       "        text-align: right;\n",
       "    }\n",
       "</style>\n",
       "<table border=\"1\" class=\"dataframe\">\n",
       "  <thead>\n",
       "    <tr style=\"text-align: right;\">\n",
       "      <th></th>\n",
       "      <th>Year Remod/Add</th>\n",
       "      <th>Year Built</th>\n",
       "    </tr>\n",
       "  </thead>\n",
       "  <tbody>\n",
       "    <tr>\n",
       "      <th>0</th>\n",
       "      <td>1960</td>\n",
       "      <td>1960</td>\n",
       "    </tr>\n",
       "    <tr>\n",
       "      <th>1</th>\n",
       "      <td>1961</td>\n",
       "      <td>1961</td>\n",
       "    </tr>\n",
       "    <tr>\n",
       "      <th>2</th>\n",
       "      <td>1958</td>\n",
       "      <td>1958</td>\n",
       "    </tr>\n",
       "    <tr>\n",
       "      <th>3</th>\n",
       "      <td>1968</td>\n",
       "      <td>1968</td>\n",
       "    </tr>\n",
       "    <tr>\n",
       "      <th>4</th>\n",
       "      <td>1998</td>\n",
       "      <td>1997</td>\n",
       "    </tr>\n",
       "    <tr>\n",
       "      <th>...</th>\n",
       "      <td>...</td>\n",
       "      <td>...</td>\n",
       "    </tr>\n",
       "    <tr>\n",
       "      <th>1455</th>\n",
       "      <td>2000</td>\n",
       "      <td>2000</td>\n",
       "    </tr>\n",
       "    <tr>\n",
       "      <th>1456</th>\n",
       "      <td>2001</td>\n",
       "      <td>2001</td>\n",
       "    </tr>\n",
       "    <tr>\n",
       "      <th>1457</th>\n",
       "      <td>2000</td>\n",
       "      <td>1999</td>\n",
       "    </tr>\n",
       "    <tr>\n",
       "      <th>1458</th>\n",
       "      <td>1999</td>\n",
       "      <td>1998</td>\n",
       "    </tr>\n",
       "    <tr>\n",
       "      <th>1459</th>\n",
       "      <td>2002</td>\n",
       "      <td>2001</td>\n",
       "    </tr>\n",
       "  </tbody>\n",
       "</table>\n",
       "<p>1460 rows × 2 columns</p>\n",
       "</div>"
      ],
      "text/plain": [
       "      Year Remod/Add  Year Built\n",
       "0               1960        1960\n",
       "1               1961        1961\n",
       "2               1958        1958\n",
       "3               1968        1968\n",
       "4               1998        1997\n",
       "...              ...         ...\n",
       "1455            2000        2000\n",
       "1456            2001        2001\n",
       "1457            2000        1999\n",
       "1458            1999        1998\n",
       "1459            2002        2001\n",
       "\n",
       "[1460 rows x 2 columns]"
      ]
     },
     "execution_count": 10,
     "metadata": {},
     "output_type": "execute_result"
    }
   ],
   "source": [
    "train[[\"Year Remod/Add\",\"Year Built\"]]"
   ]
  },
  {
   "cell_type": "code",
   "execution_count": 11,
   "id": "25d1c85d",
   "metadata": {},
   "outputs": [],
   "source": [
    "train[\"years_until_remod\"] = train[\"Year Remod/Add\"] - train[\"Year Built\"]"
   ]
  },
  {
   "cell_type": "markdown",
   "id": "3973d5a2",
   "metadata": {},
   "source": [
    "#  gestion des valeurs manquantes"
   ]
  },
  {
   "cell_type": "code",
   "execution_count": 12,
   "id": "e319796e",
   "metadata": {},
   "outputs": [],
   "source": [
    "data = pd.read_csv('F:\\\\python\\\\udemi\\\\pack\\\\Machine Learning avec Python La formation complete 2023\\\\3 - Introduction aux K plus proches voisins k Nearest Neigbors kNN\\\\pratique\\\\REGRESSION_LIN\\\\data\\\\AmesHousing.txt',delimiter = \"\\t\")\n",
    "train = data.iloc[:1460]\n",
    "test = data[1460:]"
   ]
  },
  {
   "cell_type": "code",
   "execution_count": 13,
   "id": "6c5a2624",
   "metadata": {},
   "outputs": [
    {
     "name": "stdout",
     "output_type": "stream",
     "text": [
      "Lot Frontage      249\n",
      "Mas Vnr Area       11\n",
      "Bsmt Qual          40\n",
      "Bsmt Cond          40\n",
      "Bsmt Exposure      41\n",
      "BsmtFin Type 1     40\n",
      "BsmtFin SF 1        1\n",
      "BsmtFin Type 2     41\n",
      "BsmtFin SF 2        1\n",
      "Bsmt Unf SF         1\n",
      "Total Bsmt SF       1\n",
      "Bsmt Full Bath      1\n",
      "Bsmt Half Bath      1\n",
      "Garage Type        74\n",
      "Garage Yr Blt      75\n",
      "Garage Finish      75\n",
      "Garage Qual        75\n",
      "Garage Cond        75\n",
      "dtype: int64\n",
      "\n",
      "Lot Frontage      float64\n",
      "Mas Vnr Area      float64\n",
      "Bsmt Qual          object\n",
      "Bsmt Cond          object\n",
      "Bsmt Exposure      object\n",
      "BsmtFin Type 1     object\n",
      "BsmtFin SF 1      float64\n",
      "BsmtFin Type 2     object\n",
      "BsmtFin SF 2      float64\n",
      "Bsmt Unf SF       float64\n",
      "Total Bsmt SF     float64\n",
      "Bsmt Full Bath    float64\n",
      "Bsmt Half Bath    float64\n",
      "Garage Type        object\n",
      "Garage Yr Blt     float64\n",
      "Garage Finish      object\n",
      "Garage Qual        object\n",
      "Garage Cond        object\n",
      "dtype: object\n"
     ]
    }
   ],
   "source": [
    "# defenir un seul pour la suppresion des colonnes contenant des valeurs manquantes\n",
    "missing_value = train.isnull().sum()\n",
    "missing_value.sum()\n",
    "\n",
    "df_missing_values = train[missing_value[(missing_value>0) & (missing_value<584)].index]\n",
    "\n",
    "print(df_missing_values.isnull().sum())\n",
    "print()\n",
    "print(df_missing_values.dtypes) "
   ]
  },
  {
   "cell_type": "code",
   "execution_count": 15,
   "id": "61b9ce9b",
   "metadata": {},
   "outputs": [
    {
     "data": {
      "text/plain": [
       "Lot Frontage      0\n",
       "Mas Vnr Area      0\n",
       "BsmtFin SF 1      0\n",
       "BsmtFin SF 2      0\n",
       "Bsmt Unf SF       0\n",
       "Total Bsmt SF     0\n",
       "Bsmt Full Bath    0\n",
       "Bsmt Half Bath    0\n",
       "Garage Yr Blt     0\n",
       "dtype: int64"
      ]
     },
     "execution_count": 15,
     "metadata": {},
     "output_type": "execute_result"
    }
   ],
   "source": [
    "## imputation \n",
    "# pour les types \"float\"\n",
    "\"\"\"missing_float = df_missing_values.select_dtypes(include=['float']).columns\n",
    "\n",
    "fill_with_zero = missing_float.fillna(0)\n",
    "#ou\n",
    "fill_with_mean = missing_float.fillna(missing_float.mean())  \"\"\"\n",
    "\n",
    "float_cols = df_missing_values.select_dtypes(include=['float'])\n",
    "\n",
    "float_cols = float_cols.fillna(float_cols.mean())\n",
    "\n",
    "float_cols.isnull().sum()"
   ]
  },
  {
   "cell_type": "code",
   "execution_count": null,
   "id": "340ef5b2",
   "metadata": {},
   "outputs": [],
   "source": []
  }
 ],
 "metadata": {
  "kernelspec": {
   "display_name": "Python 3 (ipykernel)",
   "language": "python",
   "name": "python3"
  },
  "language_info": {
   "codemirror_mode": {
    "name": "ipython",
    "version": 3
   },
   "file_extension": ".py",
   "mimetype": "text/x-python",
   "name": "python",
   "nbconvert_exporter": "python",
   "pygments_lexer": "ipython3",
   "version": "3.11.5"
  }
 },
 "nbformat": 4,
 "nbformat_minor": 5
}
